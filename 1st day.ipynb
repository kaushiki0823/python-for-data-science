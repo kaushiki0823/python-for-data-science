{
 "cells": [
  {
   "cell_type": "code",
   "execution_count": 1,
   "id": "3e1d6eac",
   "metadata": {},
   "outputs": [
    {
     "data": {
      "text/plain": [
       "3"
      ]
     },
     "execution_count": 1,
     "metadata": {},
     "output_type": "execute_result"
    }
   ],
   "source": [
    "5+5\n",
    "6-3"
   ]
  },
  {
   "cell_type": "code",
   "execution_count": 2,
   "id": "30509d13",
   "metadata": {},
   "outputs": [
    {
     "name": "stdout",
     "output_type": "stream",
     "text": [
      "10\n",
      "3\n"
     ]
    }
   ],
   "source": [
    "print(5+5)\n",
    "print(6-3)"
   ]
  },
  {
   "cell_type": "code",
   "execution_count": 6,
   "id": "27403c0b",
   "metadata": {},
   "outputs": [
    {
     "name": "stdout",
     "output_type": "stream",
     "text": [
      "Hii Kaushiki !!!\n"
     ]
    }
   ],
   "source": [
    "print('Hii Kaushiki !!!')"
   ]
  },
  {
   "cell_type": "code",
   "execution_count": 27,
   "id": "4103462d",
   "metadata": {},
   "outputs": [
    {
     "name": "stdout",
     "output_type": "stream",
     "text": [
      "total marks obtained\n",
      "340\n"
     ]
    }
   ],
   "source": [
    "math = 86\n",
    "science = 78\n",
    "english = 99\n",
    "computer = 77\n",
    "total_marks = math + science + english + computer\n",
    "print('total marks obtained')\n",
    "print(total_marks)"
   ]
  },
  {
   "cell_type": "code",
   "execution_count": 13,
   "id": "322cd5c1",
   "metadata": {},
   "outputs": [
    {
     "name": "stdout",
     "output_type": "stream",
     "text": [
      " *  *  *  *  * \n"
     ]
    }
   ],
   "source": [
    " var1 = ' * '\n",
    "print(var1*5)"
   ]
  },
  {
   "cell_type": "code",
   "execution_count": 14,
   "id": "330101ef",
   "metadata": {},
   "outputs": [
    {
     "name": "stdout",
     "output_type": "stream",
     "text": [
      "% &&\n"
     ]
    }
   ],
   "source": [
    "var1 = '%'\n",
    "var2 = ' '\n",
    "var3 = '&&'\n",
    "print(var1 + var2 + var3)"
   ]
  },
  {
   "cell_type": "code",
   "execution_count": 17,
   "id": "b7c2c439",
   "metadata": {},
   "outputs": [
    {
     "name": "stdout",
     "output_type": "stream",
     "text": [
      "## * ## * ## * ## * ## * ## * \n"
     ]
    }
   ],
   "source": [
    "var1 = '##'\n",
    "var2 = ' '\n",
    "var3 = '*'\n",
    "var4 = ' '\n",
    "print((var1  + var2 + var3 + var4)*6)"
   ]
  },
  {
   "cell_type": "code",
   "execution_count": 25,
   "id": "fdfc18c6",
   "metadata": {},
   "outputs": [
    {
     "name": "stdout",
     "output_type": "stream",
     "text": [
      " @ @ @ % % % % % %\n"
     ]
    }
   ],
   "source": [
    "new_1 = 3\n",
    "new_2 = 6\n",
    "print((new_1*\" @\") + (new_2*\" %\"))"
   ]
  },
  {
   "cell_type": "code",
   "execution_count": 29,
   "id": "84da2ad2",
   "metadata": {},
   "outputs": [
    {
     "name": "stdout",
     "output_type": "stream",
     "text": [
      "<class 'int'>\n",
      "<class 'int'>\n",
      "<class 'float'>\n"
     ]
    }
   ],
   "source": [
    "a = 4\n",
    "b = 8\n",
    "c = 9.7\n",
    "print(type (a))\n",
    "print(type (b))\n",
    "print(type (c))"
   ]
  },
  {
   "cell_type": "code",
   "execution_count": 33,
   "id": "27b22bc0",
   "metadata": {},
   "outputs": [
    {
     "name": "stdout",
     "output_type": "stream",
     "text": [
      "enter the radius 100\n",
      "the radius of circle is 100.0 is 31400.0\n"
     ]
    }
   ],
   "source": [
    "r =float(input(\"enter the radius \"))\n",
    "print(\"the radius of circle is \" + str(r)+ \" is \" +str(3.14*r*r))\n"
   ]
  },
  {
   "cell_type": "code",
   "execution_count": 35,
   "id": "f3e1635a",
   "metadata": {},
   "outputs": [
    {
     "name": "stdout",
     "output_type": "stream",
     "text": [
      "enter your name kaushiki singh\n",
      "enter your dob 08/09/2003\n",
      "You are selected\n"
     ]
    }
   ],
   "source": [
    "name_of_candidate = input(\"enter your name \")\n",
    "dob_of_candidate = input(\"enter your dob \")\n",
    "print(\"You are selected\")"
   ]
  },
  {
   "cell_type": "code",
   "execution_count": 2,
   "id": "fda0467b",
   "metadata": {},
   "outputs": [
    {
     "name": "stdout",
     "output_type": "stream",
     "text": [
      " enter the lenght : 8\n",
      " enter the width : 9\n",
      "area is rectangle is given as 144\n"
     ]
    }
   ],
   "source": [
    "#taking input from the user\n",
    "l = int(input(\" enter the lenght : \"))\n",
    "b = int(input(\" enter the width : \"))\n",
    "#formula used\n",
    "area = 2*(l*b)\n",
    "#print the area\n",
    "print(\"area is rectangle is given as\" ,area)"
   ]
  },
  {
   "cell_type": "code",
   "execution_count": 3,
   "id": "de1084cc",
   "metadata": {},
   "outputs": [
    {
     "name": "stdout",
     "output_type": "stream",
     "text": [
      "enter the side of the square : 6\n",
      "area of reactangle is :  36\n"
     ]
    }
   ],
   "source": [
    "#program for area of square\n",
    "s = int(input(\"enter the side of the square : \"))\n",
    "#formula used\n",
    "area = s*s\n",
    "print(\"area of reactangle is : \",area)"
   ]
  },
  {
   "cell_type": "code",
   "execution_count": 4,
   "id": "59729e13",
   "metadata": {},
   "outputs": [
    {
     "name": "stdout",
     "output_type": "stream",
     "text": [
      "enter the base of triangle : 6\n",
      "enter the height of triangle : 7\n",
      "the area of triangle is :  21.0\n"
     ]
    }
   ],
   "source": [
    "#program sor area of triangle when base and height is given\n",
    "b = int(input(\"enter the base of triangle : \"))\n",
    "h = int(input(\"enter the height of triangle : \"))\n",
    "area = b*h/2\n",
    "print(\"the area of triangle is : \",area)"
   ]
  },
  {
   "cell_type": "code",
   "execution_count": 6,
   "id": "e0aca2e5",
   "metadata": {},
   "outputs": [
    {
     "name": "stdout",
     "output_type": "stream",
     "text": [
      "enter first side : 3\n",
      "enter second side : 4\n",
      "enter third side : 5\n",
      "area of triangle is :  18.0\n"
     ]
    }
   ],
   "source": [
    "#program for area of triangle when all sides are given\n",
    "s1 = float(input(\"enter first side : \"))\n",
    "s2 = float(input(\"enter second side : \"))\n",
    "s3 = float(input(\"enter third side : \"))\n",
    "\n",
    "#calculate semi perimeter\n",
    "s = (s1 + s2 + s3)/2\n",
    "\n",
    "#calculate the area\n",
    "area = (s*(s-s1)*(s-s2)*(s-s3))*0.5\n",
    "print(\"area of triangle is : \",area)"
   ]
  },
  {
   "cell_type": "code",
   "execution_count": null,
   "id": "52934380",
   "metadata": {},
   "outputs": [],
   "source": []
  }
 ],
 "metadata": {
  "kernelspec": {
   "display_name": "Python 3 (ipykernel)",
   "language": "python",
   "name": "python3"
  },
  "language_info": {
   "codemirror_mode": {
    "name": "ipython",
    "version": 3
   },
   "file_extension": ".py",
   "mimetype": "text/x-python",
   "name": "python",
   "nbconvert_exporter": "python",
   "pygments_lexer": "ipython3",
   "version": "3.10.9"
  },
  "widgets": {
   "application/vnd.jupyter.widget-state+json": {
    "state": {},
    "version_major": 2,
    "version_minor": 0
   }
  }
 },
 "nbformat": 4,
 "nbformat_minor": 5
}
