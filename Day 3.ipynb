{
 "cells": [
  {
   "cell_type": "code",
   "execution_count": 2,
   "id": "6dd2a2e5",
   "metadata": {},
   "outputs": [
    {
     "name": "stdout",
     "output_type": "stream",
     "text": [
      "dog\n",
      "cat\n",
      "hamster\n"
     ]
    }
   ],
   "source": [
    "#for loop\n",
    "\n",
    "pets_group = ['dog','cat','hamster']\n",
    "\n",
    "for obj in pets_group:\n",
    "    print(obj)\n",
    "     "
   ]
  },
  {
   "cell_type": "code",
   "execution_count": 5,
   "id": "de4a0e9b",
   "metadata": {},
   "outputs": [
    {
     "name": "stdout",
     "output_type": "stream",
     "text": [
      "january\n",
      "march\n",
      "may\n",
      "july\n",
      "august\n",
      "october\n",
      "december\n",
      "febuary\n",
      "april\n",
      "june\n",
      "september\n",
      "november\n"
     ]
    }
   ],
   "source": [
    "#loop statement\n",
    "#for statement\n",
    "\n",
    "month_1 = ['january','march','may','july','august','october','december']\n",
    "month_2 = ['febuary','april','june','september','november']\n",
    "for month in month_1:\n",
    "    print(month)\n",
    "for months in month_2:\n",
    "    print(months)"
   ]
  },
  {
   "cell_type": "code",
   "execution_count": 7,
   "id": "00d20031",
   "metadata": {},
   "outputs": [
    {
     "name": "stdout",
     "output_type": "stream",
     "text": [
      "0\n",
      "2\n",
      "4\n",
      "6\n",
      "8\n",
      "10\n"
     ]
    }
   ],
   "source": [
    "num_list = [0,1,2,3,4,5,6,7,8,9,10]\n",
    "\n",
    "for num in num_list:\n",
    "    if num%2==0:\n",
    "        print(num)"
   ]
  },
  {
   "cell_type": "code",
   "execution_count": 11,
   "id": "cac31427",
   "metadata": {},
   "outputs": [
    {
     "data": {
      "text/plain": [
       "[0, 1, 2, 3, 4, 5, 6, 7, 8, 9, 10, 11, 12, 13, 14, 15, 16, 17, 18, 19, 20]"
      ]
     },
     "execution_count": 11,
     "metadata": {},
     "output_type": "execute_result"
    }
   ],
   "source": [
    "#range function\n",
    "list(range(21))"
   ]
  },
  {
   "cell_type": "code",
   "execution_count": 14,
   "id": "c24325cd",
   "metadata": {},
   "outputs": [
    {
     "name": "stdout",
     "output_type": "stream",
     "text": [
      "0\n",
      "2\n",
      "4\n",
      "6\n",
      "8\n",
      "10\n",
      "12\n",
      "14\n",
      "16\n",
      "18\n",
      "20\n"
     ]
    }
   ],
   "source": [
    "num_list = [0,1,2,3,4,5,6,7,8,9,10]\n",
    "\n",
    "for num in range(21):\n",
    "    if num%2==0:\n",
    "        print(num)"
   ]
  },
  {
   "cell_type": "code",
   "execution_count": 58,
   "id": "4060a680",
   "metadata": {},
   "outputs": [
    {
     "name": "stdout",
     "output_type": "stream",
     "text": [
      "* \r\n",
      "* * \r\n",
      "* * * \r\n",
      "* * * * \r\n",
      "* * * * * \r\n",
      "* * * * * * \r\n",
      "* * * * * * * \r\n",
      "* * * * * * * * \r\n",
      "* * * * * * * * * \r\n",
      "* * * * * * * * * * \r\n"
     ]
    }
   ],
   "source": [
    "#pyramid questions\n",
    "\n",
    "n=10\n",
    "\n",
    "i=1;j=0\n",
    "\n",
    "while(i<=n):\n",
    "    while(j<=i-1):\n",
    "        print(\"* \",end=\"\")\n",
    "        j+=1\n",
    "        #printing next line for each \n",
    "    print(\"\\r\")\n",
    "    j=0;i+=1"
   ]
  },
  {
   "cell_type": "code",
   "execution_count": 24,
   "id": "d500a304",
   "metadata": {},
   "outputs": [
    {
     "name": "stdout",
     "output_type": "stream",
     "text": [
      "0\n",
      "3\n",
      "9\n",
      "18\n",
      "30\n",
      "45\n",
      "63\n",
      "84\n",
      "108\n",
      "135\n",
      "165\n",
      "198\n",
      "234\n",
      "273\n"
     ]
    }
   ],
   "source": [
    "#sum numbers divisibe by 3 only\n",
    "c = 0\n",
    "for i in range(40):\n",
    "    if i%3==0:\n",
    "        c = c+i\n",
    "        print(c)"
   ]
  },
  {
   "cell_type": "code",
   "execution_count": 45,
   "id": "3bc0b783",
   "metadata": {},
   "outputs": [
    {
     "name": "stdout",
     "output_type": "stream",
     "text": [
      "bill Gates\n",
      "Steve Jobs\n",
      "Mark Zuckerberg\n"
     ]
    }
   ],
   "source": [
    "#print the names if it hs 'b'in it\n",
    "\n",
    "names_list = ['bill Gates','Steve Jobs','Mark Zuckerberg','William Shakespeare']\n",
    "for names in names_list:\n",
    "    if 'b' in names:\n",
    "        print(names)\n",
    "    "
   ]
  },
  {
   "cell_type": "code",
   "execution_count": 46,
   "id": "fc0c7e54",
   "metadata": {},
   "outputs": [
    {
     "name": "stdout",
     "output_type": "stream",
     "text": [
      "10\n",
      "9\n",
      "8\n",
      "7\n",
      "6\n",
      "5\n",
      "4\n",
      "3\n",
      "2\n",
      "1\n"
     ]
    }
   ],
   "source": [
    "#reverse range\n",
    "\n",
    "for i in range(10,0,-1):\n",
    "    print(i)"
   ]
  },
  {
   "cell_type": "code",
   "execution_count": 39,
   "id": "ea2660ec",
   "metadata": {},
   "outputs": [
    {
     "name": "stdout",
     "output_type": "stream",
     "text": [
      "my list is :  [1, 2, 3, 4, 5, 6, 7, 8, 9, 10]\n",
      "reverse list [10, 9, 8, 7, 6, 5, 4, 3, 2, 1]\n"
     ]
    }
   ],
   "source": [
    "#reverse range\n",
    "\n",
    "numbers_list = [1,2,3,4,5,6,7,8,9,10,]\n",
    "print(\"my list is : \",numbers_list)\n",
    "numbers_list.reverse()\n",
    "print(\"reverse list\",numbers_list)"
   ]
  },
  {
   "cell_type": "code",
   "execution_count": 42,
   "id": "85ce0586",
   "metadata": {},
   "outputs": [
    {
     "name": "stdout",
     "output_type": "stream",
     "text": [
      "0\n",
      "2\n",
      "4\n",
      "6\n",
      "8\n",
      "10\n",
      "12\n",
      "14\n",
      "16\n",
      "18\n"
     ]
    }
   ],
   "source": [
    "#only print even numbers using steps in the range\n",
    "\n",
    "for i in range(0,20,2):\n",
    "    print(i)"
   ]
  },
  {
   "cell_type": "code",
   "execution_count": 44,
   "id": "f7c6131c",
   "metadata": {},
   "outputs": [
    {
     "name": "stdout",
     "output_type": "stream",
     "text": [
      "P y t h o n   F o r   D a t a   S c i e n c e \n",
      "\n"
     ]
    }
   ],
   "source": [
    "#get the characters of a string one by one\n",
    "\n",
    "string_name = 'Python For Data Science'\n",
    "for element in string_name:\n",
    "    print(element,end=\" \")\n",
    "    \n",
    "print(\"\\n\")"
   ]
  },
  {
   "cell_type": "code",
   "execution_count": null,
   "id": "d3153a67",
   "metadata": {},
   "outputs": [],
   "source": [
    "#calculate the average\n",
    "n = int(input())\n",
    "s=0\n",
    "count=0\n",
    "  for i in range(0,n+1):"
   ]
  },
  {
   "cell_type": "code",
   "execution_count": 47,
   "id": "16079408",
   "metadata": {},
   "outputs": [
    {
     "name": "stdout",
     "output_type": "stream",
     "text": [
      "3\n",
      "5\n",
      "7\n",
      "9\n"
     ]
    }
   ],
   "source": [
    "#range(starting_point, ending_point-1, step_size)\n",
    "\n",
    "for i in range(3,10,2):\n",
    "    print (i)\n"
   ]
  },
  {
   "cell_type": "code",
   "execution_count": 59,
   "id": "9d5b84b5",
   "metadata": {},
   "outputs": [
    {
     "name": "stdout",
     "output_type": "stream",
     "text": [
      "0\n",
      "7\n",
      "14\n",
      "21\n",
      "28\n",
      "35\n",
      "42\n",
      "49\n",
      "56\n",
      "63\n"
     ]
    }
   ],
   "source": [
    "for i in range(0,70,7):\n",
    "    print(i)"
   ]
  },
  {
   "cell_type": "code",
   "execution_count": 1,
   "id": "8ff0b7fc",
   "metadata": {},
   "outputs": [
    {
     "name": "stdout",
     "output_type": "stream",
     "text": [
      "\n",
      "* \n",
      "* * \n",
      "* * * \n",
      "* * * * \n",
      "* * * * * \n",
      "* * * * * * \n"
     ]
    }
   ],
   "source": [
    "pattern = list(range(7))\n",
    "for num in pattern:\n",
    "    print(\"* \"*num)"
   ]
  },
  {
   "cell_type": "code",
   "execution_count": 4,
   "id": "79e208bc",
   "metadata": {},
   "outputs": [
    {
     "name": "stdout",
     "output_type": "stream",
     "text": [
      "* * * * * * * * * * \n",
      "* * * * * * * * * \n",
      "* * * * * * * * \n",
      "* * * * * * * \n",
      "* * * * * * \n",
      "* * * * * \n",
      "* * * * \n",
      "* * * \n",
      "* * \n",
      "* \n"
     ]
    }
   ],
   "source": [
    "for i in range(10,0,-1):\n",
    "    print(i*\"* \")"
   ]
  },
  {
   "cell_type": "code",
   "execution_count": 7,
   "id": "b378ca36",
   "metadata": {},
   "outputs": [
    {
     "name": "stdout",
     "output_type": "stream",
     "text": [
      "          \n",
      "         *\n",
      "        **\n",
      "       ***\n",
      "      ****\n",
      "     *****\n",
      "    ******\n",
      "   *******\n",
      "  ********\n",
      " *********\n"
     ]
    }
   ],
   "source": [
    "for i in range(10):\n",
    "    print((10-i)*\" \"+'*'*i)"
   ]
  },
  {
   "cell_type": "code",
   "execution_count": 8,
   "id": "439d2978",
   "metadata": {},
   "outputs": [
    {
     "name": "stdout",
     "output_type": "stream",
     "text": [
      "      \n",
      "     * \n",
      "    * * \n",
      "   * * * \n",
      "  * * * * \n",
      " * * * * * \n"
     ]
    }
   ],
   "source": [
    "for i in range(6):\n",
    "     print((6-i)*\" \"+'* '*i)"
   ]
  },
  {
   "cell_type": "code",
   "execution_count": 9,
   "id": "fbcb532d",
   "metadata": {},
   "outputs": [
    {
     "name": "stdout",
     "output_type": "stream",
     "text": [
      "                                                            \n",
      "                                                          * \n",
      "                                                       *  *  * \n",
      "                                                    *  *  *  *  * \n",
      "                                                 *  *  *  *  *  *  * \n",
      "                                              *  *  *  *  *  *  *  *  * \n",
      "                                           *  *  *  *  *  *  *  *  *  *  * \n",
      "                                        *  *  *  *  *  *  *  *  *  *  *  *  * \n",
      "                                     *  *  *  *  *  *  *  *  *  *  *  *  *  *  * \n",
      "                                  *  *  *  *  *  *  *  *  *  *  *  *  *  *  *  *  * \n",
      "                               *  *  *  *  *  *  *  *  *  *  *  *  *  *  *  *  *  *  * \n",
      "                            *  *  *  *  *  *  *  *  *  *  *  *  *  *  *  *  *  *  *  *  * \n",
      "                         *  *  *  *  *  *  *  *  *  *  *  *  *  *  *  *  *  *  *  *  *  *  * \n",
      "                      *  *  *  *  *  *  *  *  *  *  *  *  *  *  *  *  *  *  *  *  *  *  *  *  * \n",
      "                   *  *  *  *  *  *  *  *  *  *  *  *  *  *  *  *  *  *  *  *  *  *  *  *  *  *  * \n",
      "                *  *  *  *  *  *  *  *  *  *  *  *  *  *  *  *  *  *  *  *  *  *  *  *  *  *  *  *  * \n",
      "             *  *  *  *  *  *  *  *  *  *  *  *  *  *  *  *  *  *  *  *  *  *  *  *  *  *  *  *  *  *  * \n",
      "          *  *  *  *  *  *  *  *  *  *  *  *  *  *  *  *  *  *  *  *  *  *  *  *  *  *  *  *  *  *  *  *  * \n",
      "       *  *  *  *  *  *  *  *  *  *  *  *  *  *  *  *  *  *  *  *  *  *  *  *  *  *  *  *  *  *  *  *  *  *  * \n",
      "    *  *  *  *  *  *  *  *  *  *  *  *  *  *  *  *  *  *  *  *  *  *  *  *  *  *  *  *  *  *  *  *  *  *  *  *  * \n"
     ]
    }
   ],
   "source": [
    "for i in range(20):\n",
    "     print((20-i)*\"   \"+' * '*i+ (i-1)*' * ')"
   ]
  },
  {
   "cell_type": "code",
   "execution_count": null,
   "id": "b44fb596",
   "metadata": {},
   "outputs": [],
   "source": [
    "#Control statement for FOR loop\n",
    "#break : terminates the loop\n",
    "#continue : skip the current iteratiomn\n",
    "#pass : place holder for future use"
   ]
  },
  {
   "cell_type": "code",
   "execution_count": 20,
   "id": "30eaf04c",
   "metadata": {},
   "outputs": [
    {
     "name": "stdout",
     "output_type": "stream",
     "text": [
      "1\n",
      "4\n",
      "7\n",
      "8\n",
      "15\n"
     ]
    }
   ],
   "source": [
    "#break\n",
    "\n",
    "numbers = [1, 4, 7, 8, 15, 20, 35, 45, 55]\n",
    "for i in numbers:\n",
    "    if i > 15:\n",
    "       #break the loop\n",
    "          break\n",
    "    else:\n",
    "            print(i)\n",
    "        "
   ]
  },
  {
   "cell_type": "code",
   "execution_count": 22,
   "id": "d8735d45",
   "metadata": {},
   "outputs": [
    {
     "name": "stdout",
     "output_type": "stream",
     "text": [
      "1\n",
      "3\n",
      "5\n",
      "7\n"
     ]
    }
   ],
   "source": [
    "#break\n",
    "\n",
    "numbers = [1, 3, 5, 7, 8, 15, 20, 35, 45, 55]\n",
    "for i in numbers:\n",
    "    if i%2==0:\n",
    "       #break the loop\n",
    "          break\n",
    "    else:\n",
    "            print(i)\n",
    "        "
   ]
  },
  {
   "cell_type": "code",
   "execution_count": 23,
   "id": "e702797f",
   "metadata": {},
   "outputs": [
    {
     "name": "stdout",
     "output_type": "stream",
     "text": [
      "1\n",
      "4\n",
      "7\n",
      "8\n",
      "15\n",
      "35\n",
      "45\n",
      "55\n"
     ]
    }
   ],
   "source": [
    "#continue\n",
    "\n",
    "\n",
    "numbers = [1, 4, 7, 8, 15, 20, 35, 45, 55]\n",
    "for i in numbers:\n",
    "    if i==20:\n",
    "       #break the loop\n",
    "          continue\n",
    "    else:\n",
    "            print(i)\n",
    "        "
   ]
  },
  {
   "cell_type": "code",
   "execution_count": 24,
   "id": "841ff3ed",
   "metadata": {},
   "outputs": [],
   "source": [
    "#pass\n",
    "\n",
    "numbers = [1, 4, 7, 8, 15, 20, 35, 45, 55]\n",
    "for i in numbers:\n",
    "    #calculate multiplication in future\n",
    "    pass\n",
    "        "
   ]
  },
  {
   "cell_type": "code",
   "execution_count": 38,
   "id": "456256dd",
   "metadata": {},
   "outputs": [
    {
     "name": "stdout",
     "output_type": "stream",
     "text": [
      "1\n",
      "2\n",
      "3\n",
      "4\n",
      "5\n",
      "6\n",
      "7\n",
      "8\n",
      "9\n",
      "10\n",
      "0 was not found in the range\n"
     ]
    }
   ],
   "source": [
    "for i in range(1,11):\n",
    "    if i== 0:\n",
    "        break\n",
    "        \n",
    "    print(i)\n",
    "else:\n",
    "    print(\"0 was not found in the range\")\n",
    "    "
   ]
  },
  {
   "cell_type": "code",
   "execution_count": 39,
   "id": "473e4bc9",
   "metadata": {},
   "outputs": [
    {
     "name": "stdout",
     "output_type": "stream",
     "text": [
      "0 4\n",
      "1 2\n",
      "2 5\n",
      "3 7\n",
      "4 8\n"
     ]
    }
   ],
   "source": [
    "numbers = [4, 2, 5, 7, 8]\n",
    "\n",
    "for counter, num in enumerate(numbers):\n",
    "    print(counter,num)"
   ]
  },
  {
   "cell_type": "code",
   "execution_count": 43,
   "id": "1ddc2cc8",
   "metadata": {},
   "outputs": [
    {
     "ename": "SyntaxError",
     "evalue": "unterminated string literal (detected at line 4) (2683224090.py, line 4)",
     "output_type": "error",
     "traceback": [
      "\u001b[1;36m  Cell \u001b[1;32mIn[43], line 4\u001b[1;36m\u001b[0m\n\u001b[1;33m    print(f'Number ar{i} index is {n})\u001b[0m\n\u001b[1;37m          ^\u001b[0m\n\u001b[1;31mSyntaxError\u001b[0m\u001b[1;31m:\u001b[0m unterminated string literal (detected at line 4)\n"
     ]
    }
   ],
   "source": [
    "numbers = [4, 2, 5, 7, 8]\n",
    "\n",
    "for counter, num in enumerate(numbers):\n",
    "    print(f'Number ar{i} index is {n})"
   ]
  },
  {
   "cell_type": "code",
   "execution_count": null,
   "id": "5595efe8",
   "metadata": {},
   "outputs": [],
   "source": []
  }
 ],
 "metadata": {
  "kernelspec": {
   "display_name": "Python 3 (ipykernel)",
   "language": "python",
   "name": "python3"
  },
  "language_info": {
   "codemirror_mode": {
    "name": "ipython",
    "version": 3
   },
   "file_extension": ".py",
   "mimetype": "text/x-python",
   "name": "python",
   "nbconvert_exporter": "python",
   "pygments_lexer": "ipython3",
   "version": "3.10.9"
  }
 },
 "nbformat": 4,
 "nbformat_minor": 5
}
