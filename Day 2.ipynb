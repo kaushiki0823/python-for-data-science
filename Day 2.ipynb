{
 "cells": [
  {
   "cell_type": "code",
   "execution_count": 7,
   "id": "c8da5a4e",
   "metadata": {},
   "outputs": [
    {
     "name": "stdout",
     "output_type": "stream",
     "text": [
      "Number is positive.\n",
      "The if statement is easy\n"
     ]
    }
   ],
   "source": [
    "number = 10\n",
    "#check if number is greater than 0\n",
    "if number > 0:\n",
    "    \n",
    "    print('Number is positive.')\n",
    "\n",
    "print('The if statement is easy')"
   ]
  },
  {
   "cell_type": "code",
   "execution_count": 6,
   "id": "8deb674d",
   "metadata": {},
   "outputs": [
    {
     "name": "stdout",
     "output_type": "stream",
     "text": [
      "15\n",
      "2\n",
      "60\n",
      "0\n"
     ]
    }
   ],
   "source": [
    "#if statement\n",
    "\n",
    "\n",
    "a,b = 10,5\n",
    "print(a+b)\n",
    "print(a//b)\n",
    "\n",
    "if a!=0:\n",
    "    print(6*a)\n",
    "    \n",
    "    print(a%b)"
   ]
  },
  {
   "cell_type": "code",
   "execution_count": 8,
   "id": "59d62112",
   "metadata": {},
   "outputs": [
    {
     "name": "stdout",
     "output_type": "stream",
     "text": [
      "Enter the number:87\n",
      "Positve number\n",
      "the statemt is easy\n"
     ]
    }
   ],
   "source": [
    "number =int(input('Enter the number:'))\n",
    "\n",
    "#check the number is greater than zero\n",
    "\n",
    "if number > 0:\n",
    "    print(\"Positve number\")\n",
    "\n",
    "else:\n",
    "    print(\"Negative number\")\n",
    "    \n",
    "    \n",
    "print(\"the statemt is easy\")"
   ]
  },
  {
   "cell_type": "code",
   "execution_count": 10,
   "id": "9c8d763b",
   "metadata": {},
   "outputs": [
    {
     "name": "stdout",
     "output_type": "stream",
     "text": [
      "Enter The Number:87\n",
      "odd number\n",
      "statement is easy\n"
     ]
    }
   ],
   "source": [
    "number = int(input('Enter The Number:'))\n",
    "\n",
    "#check the number is odd or even\n",
    "\n",
    "if number%2==0:\n",
    "    print(\"even  number\")\n",
    "    \n",
    "else:\n",
    "     print(\"odd number\")\n",
    "        \n",
    "print(\"statement is easy\")"
   ]
  },
  {
   "cell_type": "code",
   "execution_count": 12,
   "id": "346dfd94",
   "metadata": {},
   "outputs": [
    {
     "name": "stdout",
     "output_type": "stream",
     "text": [
      "Enter the age of a person:20\n",
      "Person is eligible for voting\n"
     ]
    }
   ],
   "source": [
    "age = int(input('Enter the age of a person:'))\n",
    "\n",
    "#check whether the person is eligible for voting or not\n",
    "\n",
    "if age > 18:\n",
    "    print(\"Person is eligible for voting\")\n",
    "    \n",
    "else:\n",
    "     print(\"Person is not eligible\")\n",
    "        "
   ]
  },
  {
   "cell_type": "code",
   "execution_count": 17,
   "id": "13613da1",
   "metadata": {},
   "outputs": [
    {
     "name": "stdout",
     "output_type": "stream",
     "text": [
      "Enter the number:56\n",
      "Number is divisible by 7\n"
     ]
    }
   ],
   "source": [
    "num = int(input('Enter the number:'))\n",
    "\n",
    "#check whether the number is divisible by 7 or not\n",
    "\n",
    "if num%7==0:\n",
    "    print(\"Number is divisible by 7\")\n",
    "    \n",
    "else:\n",
    "     print(\"Number is not divisible by 7\")\n"
   ]
  },
  {
   "cell_type": "code",
   "execution_count": 21,
   "id": "b48260c3",
   "metadata": {},
   "outputs": [
    {
     "name": "stdout",
     "output_type": "stream",
     "text": [
      "Enter the bike balance:50\n",
      "Enter the account balance:900\n",
      "account balance is  400\n",
      "bike_bal 550\n"
     ]
    }
   ],
   "source": [
    "bike_bal = int(input('Enter the bike balance:'))\n",
    "account_bal = int(input('Enter the account balance:'))\n",
    "\n",
    "if account_bal<500:\n",
    "     print(\"account balance is less than 500\")\n",
    "\n",
    "\n",
    "if bike_bal<100:\n",
    "    bike_bal+=500\n",
    "    account_bal-=500\n",
    "    \n",
    "print(\"account balance is \",account_bal)\n",
    "print(\"bike_bal\",bike_bal)"
   ]
  },
  {
   "cell_type": "code",
   "execution_count": 23,
   "id": "2bc1971a",
   "metadata": {},
   "outputs": [
    {
     "name": "stdout",
     "output_type": "stream",
     "text": [
      "*\n",
      "6\n",
      "5\n",
      "30\n",
      "invalid operator\n"
     ]
    }
   ],
   "source": [
    "operator = input()\n",
    "\n",
    "a,b = int(input()), int(input())\n",
    "\n",
    "if operator == '+':\n",
    "    print(a+b)\n",
    "    \n",
    "if operator =='-':\n",
    "    print(a-b)\n",
    "    \n",
    "if operator =='*':\n",
    "    print(a*b)\n",
    "    \n",
    "if operator =='/':\n",
    "    print(a/b)\n",
    "    \n",
    "else:\n",
    "    print(\"invalid operator\")"
   ]
  },
  {
   "cell_type": "code",
   "execution_count": 9,
   "id": "17fbafd2",
   "metadata": {},
   "outputs": [
    {
     "name": "stdout",
     "output_type": "stream",
     "text": [
      "Enter the number 40\n",
      "Enter the number 60\n",
      "b is greater than a\n"
     ]
    }
   ],
   "source": [
    "a = int(input(\"Enter the number \"))\n",
    "b = int(input(\"Enter the number \"))\n",
    "\n",
    "if a>b:\n",
    "        print(\"a is greater than b\")\n",
    "elif b>a:\n",
    "        print(\"b is greater than a\")\n",
    "        \n",
    "else:\n",
    "        print(a,'and',b,'are equal')"
   ]
  },
  {
   "cell_type": "code",
   "execution_count": 14,
   "id": "c16ad9f6",
   "metadata": {},
   "outputs": [
    {
     "name": "stdout",
     "output_type": "stream",
     "text": [
      "Enter marks int the subject 90\n",
      "Grade A+\n"
     ]
    }
   ],
   "source": [
    "marks=int(input(\"Enter marks int the subject \"))\n",
    "\n",
    "if(marks>=90):\n",
    "         print(\"Grade A+\")\n",
    "elif(marks>=80 and marks<90):\n",
    "         print(\"Grade A\")\n",
    "elif(marks>=70 and marks<80):\n",
    "         print(\"Grade B\")\n",
    "elif(marks>=60 and marks<70):\n",
    "         print(\"Grade C\")\n",
    "elif(marks>=50 and marks<60):\n",
    "         print(\"Grade D\")\n",
    "elif(marks>=40 and marks<50):\n",
    "         print(\"Grade E\")\n",
    "\n",
    "else:\n",
    "     print(\"Grade F\")"
   ]
  },
  {
   "cell_type": "code",
   "execution_count": 21,
   "id": "94b1a0a5",
   "metadata": {},
   "outputs": [
    {
     "name": "stdout",
     "output_type": "stream",
     "text": [
      "Enter the first angle: 60\n",
      "Enter the second angle: 60\n",
      "Enter the third angle: 60\n",
      "Equilateral Triangle\n"
     ]
    }
   ],
   "source": [
    "a = int(input(\"Enter the first angle: \"))\n",
    "b = int(input(\"Enter the second angle: \"))\n",
    "c = int(input(\"Enter the third angle: \"))\n",
    "\n",
    "if a+b+c==180:\n",
    "    if a==b and b==c and c==a:\n",
    "        print(\"Equilateral Triangle\")\n",
    "    \n",
    "    elif a==b or b==c or c==a:\n",
    "        print(\"Isoceles Triangle\")\n",
    "    \n",
    "    else:\n",
    "        print(\"Scalene Triangle\")\n",
    "    \n",
    "else:\n",
    "    print(\"invalid input\")"
   ]
  },
  {
   "cell_type": "markdown",
   "id": "74fae0d8",
   "metadata": {},
   "source": []
  },
  {
   "cell_type": "code",
   "execution_count": 2,
   "id": "bc5a6878",
   "metadata": {},
   "outputs": [
    {
     "name": "stdout",
     "output_type": "stream",
     "text": [
      "Enter the error!! 2\n",
      "you have 2 errors to fix !\n"
     ]
    }
   ],
   "source": [
    "error = int(input(\"Enter the error!! \"))\n",
    "\n",
    "if error:\n",
    "    print(f\"you have {error} errors to fix !\")\n",
    "    \n",
    "    \n",
    "else:\n",
    "     print(\"no error to fix\")\n",
    "        "
   ]
  },
  {
   "cell_type": "markdown",
   "id": "c9e5bdde",
   "metadata": {},
   "source": []
  },
  {
   "cell_type": "code",
   "execution_count": 10,
   "id": "40ff5436",
   "metadata": {},
   "outputs": [
    {
     "name": "stdout",
     "output_type": "stream",
     "text": [
      "Enter a Character: r\n",
      "r is a consonant\n"
     ]
    }
   ],
   "source": [
    "ch = input(\"Enter a Character: \")\n",
    "\n",
    "if(ch=='A' or ch=='a' or ch=='E' or ch=='e' or ch=='I' or ch=='i' or ch=='O' or ch=='o' or ch=='U' or ch=='u'):\n",
    "    print(f\"{ch} is a vowel\")\n",
    "else:\n",
    "    print(f\"{ch} is a consonant\")"
   ]
  },
  {
   "cell_type": "markdown",
   "id": "d42bbda9",
   "metadata": {},
   "source": [
    "vowels =['a','e','i','o','u','A','E','I','O','U']\n",
    "ch = input(\"Enter the character \")\n",
    "\n",
    "if ch in vowels:\n",
    "    print(ch, \" is a vowel\")\n",
    "    \n",
    "else:\n",
    "     print(ch,\" is a consonant\")"
   ]
  },
  {
   "cell_type": "code",
   "execution_count": 16,
   "id": "8ccf4989",
   "metadata": {},
   "outputs": [
    {
     "name": "stdout",
     "output_type": "stream",
     "text": [
      "Enter the month: 1\n",
      "Enter the Year: 2023\n",
      "Number Of Days Is 31\n"
     ]
    }
   ],
   "source": [
    "month = int(input(\"Enter the month: \"))\n",
    "year=int(input(\"Enter the Year: \"))\n",
    "\n",
    "if((month==2) and ((year%4==0) or ((year%100==0) and (year%400==0)))):\n",
    "    print(\"Number Of Days Is 29\");\n",
    "    \n",
    "elif(month==2):\n",
    "    print(\"Number Of Days Is 28\");\n",
    "    \n",
    "elif(month==1 or month==3 or month==5 or month==7 or month==8 or month==10 or month==12):\n",
    "    print(\"Number Of Days Is 31\")\n",
    "    \n",
    "else:\n",
    "     print(\"Number Of Days Is 30\")"
   ]
  },
  {
   "cell_type": "code",
   "execution_count": 17,
   "id": "ffe3fae6",
   "metadata": {},
   "outputs": [
    {
     "name": "stdout",
     "output_type": "stream",
     "text": [
      "enter the month :-june\n",
      "number of days is 30\n"
     ]
    }
   ],
   "source": [
    "month =input(\"enter the month :-\")\n",
    "\n",
    "a = ['january','march','may','july','august','october','december']\n",
    "b = ['april','june','september','november',]\n",
    "\n",
    "if month in a:\n",
    "    print(\"number of days is 31\")\n",
    "    \n",
    "elif month in b:\n",
    "    print(\"number of days is 30\")\n",
    "    \n",
    "else:\n",
    "    print(\"number of days is 28 or 29\")"
   ]
  },
  {
   "cell_type": "code",
   "execution_count": null,
   "id": "4d238b8b",
   "metadata": {},
   "outputs": [],
   "source": []
  },
  {
   "cell_type": "code",
   "execution_count": null,
   "id": "64eac321",
   "metadata": {},
   "outputs": [],
   "source": []
  },
  {
   "cell_type": "code",
   "execution_count": null,
   "id": "8d780ccb",
   "metadata": {},
   "outputs": [],
   "source": []
  }
 ],
 "metadata": {
  "kernelspec": {
   "display_name": "Python 3 (ipykernel)",
   "language": "python",
   "name": "python3"
  },
  "language_info": {
   "codemirror_mode": {
    "name": "ipython",
    "version": 3
   },
   "file_extension": ".py",
   "mimetype": "text/x-python",
   "name": "python",
   "nbconvert_exporter": "python",
   "pygments_lexer": "ipython3",
   "version": "3.10.9"
  }
 },
 "nbformat": 4,
 "nbformat_minor": 5
}
